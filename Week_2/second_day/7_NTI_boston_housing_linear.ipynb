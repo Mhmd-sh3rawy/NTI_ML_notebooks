{
  "cells": [
    {
      "cell_type": "code",
      "execution_count": 20,
      "metadata": {
        "id": "hXiN5KSxKRXt"
      },
      "outputs": [],
      "source": [
        "import pandas as pd\n",
        "import numpy as np\n",
        "import matplotlib.pyplot as plt\n",
        "import seaborn as sns\n",
        "from sklearn.preprocessing import MinMaxScaler, StandardScaler, PolynomialFeatures\n",
        "from sklearn.linear_model import LinearRegression\n",
        "from sklearn.model_selection import train_test_split\n",
        "from sklearn.metrics import r2_score, mean_absolute_error, mean_squared_error"
      ]
    },
    {
      "cell_type": "code",
      "execution_count": 21,
      "metadata": {
        "colab": {
          "base_uri": "https://localhost:8080/",
          "height": 255
        },
        "id": "bu3oy_2jK9iH",
        "outputId": "4f7606c6-0cdf-4b12-ffac-c2b17893fbb2"
      },
      "outputs": [
        {
          "data": {
            "text/html": [
              "<div>\n",
              "<style scoped>\n",
              "    .dataframe tbody tr th:only-of-type {\n",
              "        vertical-align: middle;\n",
              "    }\n",
              "\n",
              "    .dataframe tbody tr th {\n",
              "        vertical-align: top;\n",
              "    }\n",
              "\n",
              "    .dataframe thead th {\n",
              "        text-align: right;\n",
              "    }\n",
              "</style>\n",
              "<table border=\"1\" class=\"dataframe\">\n",
              "  <thead>\n",
              "    <tr style=\"text-align: right;\">\n",
              "      <th></th>\n",
              "      <th>0.000000000000000000e+00</th>\n",
              "      <th>1.799999999999999933e-01</th>\n",
              "      <th>6.781524926686217924e-02</th>\n",
              "      <th>0.000000000000000000e+00.1</th>\n",
              "      <th>3.148148148148147696e-01</th>\n",
              "      <th>5.775052692086607431e-01</th>\n",
              "      <th>6.416065911431514390e-01</th>\n",
              "      <th>2.692031390664641477e-01</th>\n",
              "      <th>0.000000000000000000e+00.2</th>\n",
              "      <th>2.080152671755724492e-01</th>\n",
              "      <th>...</th>\n",
              "      <th>5.974906610362189924e-02</th>\n",
              "      <th>2.080152671755724214e-01</th>\n",
              "      <th>1.865479079251132835e-02</th>\n",
              "      <th>8.250339520144869820e-02</th>\n",
              "      <th>2.872340425531915709e-01</th>\n",
              "      <th>2.575912357334086619e-02</th>\n",
              "      <th>9.999999999999997780e-01</th>\n",
              "      <th>8.967991169977924948e-02</th>\n",
              "      <th>8.042486562480206241e-03</th>\n",
              "      <th>2.400000000000000000e+01</th>\n",
              "    </tr>\n",
              "  </thead>\n",
              "  <tbody>\n",
              "    <tr>\n",
              "      <th>0</th>\n",
              "      <td>0.000236</td>\n",
              "      <td>0.0</td>\n",
              "      <td>0.242302</td>\n",
              "      <td>0.0</td>\n",
              "      <td>0.172840</td>\n",
              "      <td>0.547998</td>\n",
              "      <td>0.782698</td>\n",
              "      <td>0.348962</td>\n",
              "      <td>0.043478</td>\n",
              "      <td>0.104962</td>\n",
              "      <td>...</td>\n",
              "      <td>0.058064</td>\n",
              "      <td>0.104962</td>\n",
              "      <td>0.021462</td>\n",
              "      <td>0.306021</td>\n",
              "      <td>0.553191</td>\n",
              "      <td>0.113111</td>\n",
              "      <td>1.000000</td>\n",
              "      <td>0.204470</td>\n",
              "      <td>0.041808</td>\n",
              "      <td>21.6</td>\n",
              "    </tr>\n",
              "    <tr>\n",
              "      <th>1</th>\n",
              "      <td>0.000236</td>\n",
              "      <td>0.0</td>\n",
              "      <td>0.242302</td>\n",
              "      <td>0.0</td>\n",
              "      <td>0.172840</td>\n",
              "      <td>0.694386</td>\n",
              "      <td>0.599382</td>\n",
              "      <td>0.348962</td>\n",
              "      <td>0.043478</td>\n",
              "      <td>0.104962</td>\n",
              "      <td>...</td>\n",
              "      <td>0.058064</td>\n",
              "      <td>0.103885</td>\n",
              "      <td>0.006661</td>\n",
              "      <td>0.306021</td>\n",
              "      <td>0.547514</td>\n",
              "      <td>0.035109</td>\n",
              "      <td>0.979580</td>\n",
              "      <td>0.062814</td>\n",
              "      <td>0.004028</td>\n",
              "      <td>34.7</td>\n",
              "    </tr>\n",
              "    <tr>\n",
              "      <th>2</th>\n",
              "      <td>0.000293</td>\n",
              "      <td>0.0</td>\n",
              "      <td>0.063050</td>\n",
              "      <td>0.0</td>\n",
              "      <td>0.150206</td>\n",
              "      <td>0.658555</td>\n",
              "      <td>0.441813</td>\n",
              "      <td>0.448545</td>\n",
              "      <td>0.086957</td>\n",
              "      <td>0.066794</td>\n",
              "      <td>...</td>\n",
              "      <td>0.043345</td>\n",
              "      <td>0.066412</td>\n",
              "      <td>0.002230</td>\n",
              "      <td>0.421118</td>\n",
              "      <td>0.645222</td>\n",
              "      <td>0.021667</td>\n",
              "      <td>0.988585</td>\n",
              "      <td>0.033197</td>\n",
              "      <td>0.001115</td>\n",
              "      <td>33.4</td>\n",
              "    </tr>\n",
              "    <tr>\n",
              "      <th>3</th>\n",
              "      <td>0.000705</td>\n",
              "      <td>0.0</td>\n",
              "      <td>0.063050</td>\n",
              "      <td>0.0</td>\n",
              "      <td>0.150206</td>\n",
              "      <td>0.687105</td>\n",
              "      <td>0.528321</td>\n",
              "      <td>0.448545</td>\n",
              "      <td>0.086957</td>\n",
              "      <td>0.066794</td>\n",
              "      <td>...</td>\n",
              "      <td>0.043345</td>\n",
              "      <td>0.066794</td>\n",
              "      <td>0.006635</td>\n",
              "      <td>0.421118</td>\n",
              "      <td>0.648936</td>\n",
              "      <td>0.064464</td>\n",
              "      <td>1.000000</td>\n",
              "      <td>0.099338</td>\n",
              "      <td>0.009868</td>\n",
              "      <td>36.2</td>\n",
              "    </tr>\n",
              "    <tr>\n",
              "      <th>4</th>\n",
              "      <td>0.000264</td>\n",
              "      <td>0.0</td>\n",
              "      <td>0.063050</td>\n",
              "      <td>0.0</td>\n",
              "      <td>0.150206</td>\n",
              "      <td>0.549722</td>\n",
              "      <td>0.574665</td>\n",
              "      <td>0.448545</td>\n",
              "      <td>0.086957</td>\n",
              "      <td>0.066794</td>\n",
              "      <td>...</td>\n",
              "      <td>0.043345</td>\n",
              "      <td>0.066326</td>\n",
              "      <td>0.006414</td>\n",
              "      <td>0.421118</td>\n",
              "      <td>0.644387</td>\n",
              "      <td>0.062315</td>\n",
              "      <td>0.986029</td>\n",
              "      <td>0.095353</td>\n",
              "      <td>0.009221</td>\n",
              "      <td>28.7</td>\n",
              "    </tr>\n",
              "  </tbody>\n",
              "</table>\n",
              "<p>5 rows × 105 columns</p>\n",
              "</div>"
            ],
            "text/plain": [
              "   0.000000000000000000e+00  1.799999999999999933e-01  \\\n",
              "0                  0.000236                       0.0   \n",
              "1                  0.000236                       0.0   \n",
              "2                  0.000293                       0.0   \n",
              "3                  0.000705                       0.0   \n",
              "4                  0.000264                       0.0   \n",
              "\n",
              "   6.781524926686217924e-02  0.000000000000000000e+00.1  \\\n",
              "0                  0.242302                         0.0   \n",
              "1                  0.242302                         0.0   \n",
              "2                  0.063050                         0.0   \n",
              "3                  0.063050                         0.0   \n",
              "4                  0.063050                         0.0   \n",
              "\n",
              "   3.148148148148147696e-01  5.775052692086607431e-01  \\\n",
              "0                  0.172840                  0.547998   \n",
              "1                  0.172840                  0.694386   \n",
              "2                  0.150206                  0.658555   \n",
              "3                  0.150206                  0.687105   \n",
              "4                  0.150206                  0.549722   \n",
              "\n",
              "   6.416065911431514390e-01  2.692031390664641477e-01  \\\n",
              "0                  0.782698                  0.348962   \n",
              "1                  0.599382                  0.348962   \n",
              "2                  0.441813                  0.448545   \n",
              "3                  0.528321                  0.448545   \n",
              "4                  0.574665                  0.448545   \n",
              "\n",
              "   0.000000000000000000e+00.2  2.080152671755724492e-01  ...  \\\n",
              "0                    0.043478                  0.104962  ...   \n",
              "1                    0.043478                  0.104962  ...   \n",
              "2                    0.086957                  0.066794  ...   \n",
              "3                    0.086957                  0.066794  ...   \n",
              "4                    0.086957                  0.066794  ...   \n",
              "\n",
              "   5.974906610362189924e-02  2.080152671755724214e-01  \\\n",
              "0                  0.058064                  0.104962   \n",
              "1                  0.058064                  0.103885   \n",
              "2                  0.043345                  0.066412   \n",
              "3                  0.043345                  0.066794   \n",
              "4                  0.043345                  0.066326   \n",
              "\n",
              "   1.865479079251132835e-02  8.250339520144869820e-02  \\\n",
              "0                  0.021462                  0.306021   \n",
              "1                  0.006661                  0.306021   \n",
              "2                  0.002230                  0.421118   \n",
              "3                  0.006635                  0.421118   \n",
              "4                  0.006414                  0.421118   \n",
              "\n",
              "   2.872340425531915709e-01  2.575912357334086619e-02  \\\n",
              "0                  0.553191                  0.113111   \n",
              "1                  0.547514                  0.035109   \n",
              "2                  0.645222                  0.021667   \n",
              "3                  0.648936                  0.064464   \n",
              "4                  0.644387                  0.062315   \n",
              "\n",
              "   9.999999999999997780e-01  8.967991169977924948e-02  \\\n",
              "0                  1.000000                  0.204470   \n",
              "1                  0.979580                  0.062814   \n",
              "2                  0.988585                  0.033197   \n",
              "3                  1.000000                  0.099338   \n",
              "4                  0.986029                  0.095353   \n",
              "\n",
              "   8.042486562480206241e-03  2.400000000000000000e+01  \n",
              "0                  0.041808                      21.6  \n",
              "1                  0.004028                      34.7  \n",
              "2                  0.001115                      33.4  \n",
              "3                  0.009868                      36.2  \n",
              "4                  0.009221                      28.7  \n",
              "\n",
              "[5 rows x 105 columns]"
            ]
          },
          "execution_count": 21,
          "metadata": {},
          "output_type": "execute_result"
        }
      ],
      "source": [
        "df_boston_housing_org = pd.read_csv('boston housing.csv')\n",
        "df_boston_housing_org.head()"
      ]
    },
    {
      "cell_type": "code",
      "execution_count": 22,
      "metadata": {
        "colab": {
          "base_uri": "https://localhost:8080/"
        },
        "id": "gOyDpEMlWnx7",
        "outputId": "62f0a7a3-2277-41d4-9e70-36113f43e22d"
      },
      "outputs": [
        {
          "name": "stdout",
          "output_type": "stream",
          "text": [
            "<class 'pandas.core.frame.DataFrame'>\n",
            "RangeIndex: 505 entries, 0 to 504\n",
            "Columns: 105 entries, 0.000000000000000000e+00 to 2.400000000000000000e+01\n",
            "dtypes: float64(105)\n",
            "memory usage: 414.4 KB\n"
          ]
        }
      ],
      "source": [
        "df_boston_housing_org.info()"
      ]
    },
    {
      "cell_type": "code",
      "execution_count": 23,
      "metadata": {
        "colab": {
          "base_uri": "https://localhost:8080/",
          "height": 115
        },
        "id": "KDXiG2vGLDi0",
        "outputId": "cedfa97f-07eb-414e-a065-4671c9e074c2"
      },
      "outputs": [
        {
          "data": {
            "text/plain": [
              "0    105\n",
              "Name: count, dtype: int64"
            ]
          },
          "execution_count": 23,
          "metadata": {},
          "output_type": "execute_result"
        }
      ],
      "source": [
        "df_boston_housing_org.isna().sum().value_counts()"
      ]
    },
    {
      "cell_type": "code",
      "execution_count": 24,
      "metadata": {
        "id": "c69mKRRtL7yB"
      },
      "outputs": [],
      "source": [
        "df_boston_housing_org.dropna(inplace=True)"
      ]
    },
    {
      "cell_type": "code",
      "execution_count": 25,
      "metadata": {},
      "outputs": [
        {
          "data": {
            "text/plain": [
              "(505, 105)"
            ]
          },
          "execution_count": 25,
          "metadata": {},
          "output_type": "execute_result"
        }
      ],
      "source": [
        "df_boston_housing_org.shape"
      ]
    },
    {
      "cell_type": "code",
      "execution_count": 26,
      "metadata": {
        "colab": {
          "base_uri": "https://localhost:8080/"
        },
        "id": "3ZdJm_7-LFU_",
        "outputId": "51fad0a1-15e1-4297-b1ab-eba86eefa4ad"
      },
      "outputs": [
        {
          "data": {
            "text/plain": [
              "np.int64(0)"
            ]
          },
          "execution_count": 26,
          "metadata": {},
          "output_type": "execute_result"
        }
      ],
      "source": [
        "df_boston_housing_org.duplicated().sum()"
      ]
    },
    {
      "cell_type": "code",
      "execution_count": 27,
      "metadata": {
        "colab": {
          "base_uri": "https://localhost:8080/",
          "height": 349
        },
        "id": "bhxxM4GGLHwS",
        "outputId": "4653b08f-0e06-40bc-f3b6-97a72a5e2180"
      },
      "outputs": [
        {
          "data": {
            "text/html": [
              "<div>\n",
              "<style scoped>\n",
              "    .dataframe tbody tr th:only-of-type {\n",
              "        vertical-align: middle;\n",
              "    }\n",
              "\n",
              "    .dataframe tbody tr th {\n",
              "        vertical-align: top;\n",
              "    }\n",
              "\n",
              "    .dataframe thead th {\n",
              "        text-align: right;\n",
              "    }\n",
              "</style>\n",
              "<table border=\"1\" class=\"dataframe\">\n",
              "  <thead>\n",
              "    <tr style=\"text-align: right;\">\n",
              "      <th></th>\n",
              "      <th>0.000000000000000000e+00</th>\n",
              "      <th>1.799999999999999933e-01</th>\n",
              "      <th>6.781524926686217924e-02</th>\n",
              "      <th>0.000000000000000000e+00.1</th>\n",
              "      <th>3.148148148148147696e-01</th>\n",
              "      <th>5.775052692086607431e-01</th>\n",
              "      <th>6.416065911431514390e-01</th>\n",
              "      <th>2.692031390664641477e-01</th>\n",
              "      <th>0.000000000000000000e+00.2</th>\n",
              "      <th>2.080152671755724492e-01</th>\n",
              "      <th>...</th>\n",
              "      <th>5.974906610362189924e-02</th>\n",
              "      <th>2.080152671755724214e-01</th>\n",
              "      <th>1.865479079251132835e-02</th>\n",
              "      <th>8.250339520144869820e-02</th>\n",
              "      <th>2.872340425531915709e-01</th>\n",
              "      <th>2.575912357334086619e-02</th>\n",
              "      <th>9.999999999999997780e-01</th>\n",
              "      <th>8.967991169977924948e-02</th>\n",
              "      <th>8.042486562480206241e-03</th>\n",
              "      <th>2.400000000000000000e+01</th>\n",
              "    </tr>\n",
              "  </thead>\n",
              "  <tbody>\n",
              "    <tr>\n",
              "      <th>count</th>\n",
              "      <td>505.000000</td>\n",
              "      <td>505.000000</td>\n",
              "      <td>505.000000</td>\n",
              "      <td>505.000000</td>\n",
              "      <td>505.000000</td>\n",
              "      <td>505.000000</td>\n",
              "      <td>505.000000</td>\n",
              "      <td>505.000000</td>\n",
              "      <td>505.000000</td>\n",
              "      <td>505.000000</td>\n",
              "      <td>...</td>\n",
              "      <td>505.000000</td>\n",
              "      <td>505.000000</td>\n",
              "      <td>505.000000</td>\n",
              "      <td>505.000000</td>\n",
              "      <td>505.000000</td>\n",
              "      <td>505.000000</td>\n",
              "      <td>505.000000</td>\n",
              "      <td>505.000000</td>\n",
              "      <td>505.000000</td>\n",
              "      <td>505.000000</td>\n",
              "    </tr>\n",
              "    <tr>\n",
              "      <th>mean</th>\n",
              "      <td>0.040624</td>\n",
              "      <td>0.113505</td>\n",
              "      <td>0.392018</td>\n",
              "      <td>0.069307</td>\n",
              "      <td>0.349235</td>\n",
              "      <td>0.521759</td>\n",
              "      <td>0.676432</td>\n",
              "      <td>0.242328</td>\n",
              "      <td>0.372449</td>\n",
              "      <td>0.422632</td>\n",
              "      <td>...</td>\n",
              "      <td>0.297547</td>\n",
              "      <td>0.347010</td>\n",
              "      <td>0.161950</td>\n",
              "      <td>0.441690</td>\n",
              "      <td>0.550879</td>\n",
              "      <td>0.205053</td>\n",
              "      <td>0.860037</td>\n",
              "      <td>0.254589</td>\n",
              "      <td>0.129840</td>\n",
              "      <td>22.529901</td>\n",
              "    </tr>\n",
              "    <tr>\n",
              "      <th>std</th>\n",
              "      <td>0.096758</td>\n",
              "      <td>0.233437</td>\n",
              "      <td>0.251315</td>\n",
              "      <td>0.254227</td>\n",
              "      <td>0.238663</td>\n",
              "      <td>0.134737</td>\n",
              "      <td>0.290179</td>\n",
              "      <td>0.191668</td>\n",
              "      <td>0.378589</td>\n",
              "      <td>0.321813</td>\n",
              "      <td>...</td>\n",
              "      <td>0.284770</td>\n",
              "      <td>0.284129</td>\n",
              "      <td>0.194591</td>\n",
              "      <td>0.250332</td>\n",
              "      <td>0.252103</td>\n",
              "      <td>0.168345</td>\n",
              "      <td>0.265797</td>\n",
              "      <td>0.178537</td>\n",
              "      <td>0.161825</td>\n",
              "      <td>9.205991</td>\n",
              "    </tr>\n",
              "    <tr>\n",
              "      <th>min</th>\n",
              "      <td>0.000031</td>\n",
              "      <td>0.000000</td>\n",
              "      <td>0.000000</td>\n",
              "      <td>0.000000</td>\n",
              "      <td>0.000000</td>\n",
              "      <td>0.000000</td>\n",
              "      <td>0.000000</td>\n",
              "      <td>0.000000</td>\n",
              "      <td>0.000000</td>\n",
              "      <td>0.000000</td>\n",
              "      <td>...</td>\n",
              "      <td>0.000000</td>\n",
              "      <td>0.000000</td>\n",
              "      <td>0.000000</td>\n",
              "      <td>0.000000</td>\n",
              "      <td>0.000000</td>\n",
              "      <td>0.000000</td>\n",
              "      <td>0.000000</td>\n",
              "      <td>0.000000</td>\n",
              "      <td>0.000000</td>\n",
              "      <td>5.000000</td>\n",
              "    </tr>\n",
              "    <tr>\n",
              "      <th>25%</th>\n",
              "      <td>0.000853</td>\n",
              "      <td>0.000000</td>\n",
              "      <td>0.173387</td>\n",
              "      <td>0.000000</td>\n",
              "      <td>0.131687</td>\n",
              "      <td>0.445296</td>\n",
              "      <td>0.433574</td>\n",
              "      <td>0.088243</td>\n",
              "      <td>0.130435</td>\n",
              "      <td>0.175573</td>\n",
              "      <td>...</td>\n",
              "      <td>0.087624</td>\n",
              "      <td>0.158193</td>\n",
              "      <td>0.026204</td>\n",
              "      <td>0.260751</td>\n",
              "      <td>0.400056</td>\n",
              "      <td>0.072035</td>\n",
              "      <td>0.894178</td>\n",
              "      <td>0.117933</td>\n",
              "      <td>0.021227</td>\n",
              "      <td>17.000000</td>\n",
              "    </tr>\n",
              "    <tr>\n",
              "      <th>50%</th>\n",
              "      <td>0.002842</td>\n",
              "      <td>0.000000</td>\n",
              "      <td>0.338343</td>\n",
              "      <td>0.000000</td>\n",
              "      <td>0.314815</td>\n",
              "      <td>0.507185</td>\n",
              "      <td>0.770340</td>\n",
              "      <td>0.188198</td>\n",
              "      <td>0.173913</td>\n",
              "      <td>0.272901</td>\n",
              "      <td>...</td>\n",
              "      <td>0.142115</td>\n",
              "      <td>0.225572</td>\n",
              "      <td>0.065925</td>\n",
              "      <td>0.478158</td>\n",
              "      <td>0.615979</td>\n",
              "      <td>0.156108</td>\n",
              "      <td>0.972604</td>\n",
              "      <td>0.219371</td>\n",
              "      <td>0.070905</td>\n",
              "      <td>21.200000</td>\n",
              "    </tr>\n",
              "    <tr>\n",
              "      <th>75%</th>\n",
              "      <td>0.041271</td>\n",
              "      <td>0.125000</td>\n",
              "      <td>0.646628</td>\n",
              "      <td>0.000000</td>\n",
              "      <td>0.491770</td>\n",
              "      <td>0.587086</td>\n",
              "      <td>0.939238</td>\n",
              "      <td>0.371223</td>\n",
              "      <td>1.000000</td>\n",
              "      <td>0.914122</td>\n",
              "      <td>...</td>\n",
              "      <td>0.739077</td>\n",
              "      <td>0.440625</td>\n",
              "      <td>0.257902</td>\n",
              "      <td>0.653689</td>\n",
              "      <td>0.759622</td>\n",
              "      <td>0.311669</td>\n",
              "      <td>0.996523</td>\n",
              "      <td>0.345408</td>\n",
              "      <td>0.176613</td>\n",
              "      <td>25.000000</td>\n",
              "    </tr>\n",
              "    <tr>\n",
              "      <th>max</th>\n",
              "      <td>1.000000</td>\n",
              "      <td>1.000000</td>\n",
              "      <td>1.000000</td>\n",
              "      <td>1.000000</td>\n",
              "      <td>1.000000</td>\n",
              "      <td>1.000000</td>\n",
              "      <td>1.000000</td>\n",
              "      <td>1.000000</td>\n",
              "      <td>1.000000</td>\n",
              "      <td>1.000000</td>\n",
              "      <td>...</td>\n",
              "      <td>0.797872</td>\n",
              "      <td>1.000000</td>\n",
              "      <td>0.914122</td>\n",
              "      <td>1.000000</td>\n",
              "      <td>0.964446</td>\n",
              "      <td>0.825020</td>\n",
              "      <td>1.000000</td>\n",
              "      <td>1.000000</td>\n",
              "      <td>1.000000</td>\n",
              "      <td>50.000000</td>\n",
              "    </tr>\n",
              "  </tbody>\n",
              "</table>\n",
              "<p>8 rows × 105 columns</p>\n",
              "</div>"
            ],
            "text/plain": [
              "       0.000000000000000000e+00  1.799999999999999933e-01  \\\n",
              "count                505.000000                505.000000   \n",
              "mean                   0.040624                  0.113505   \n",
              "std                    0.096758                  0.233437   \n",
              "min                    0.000031                  0.000000   \n",
              "25%                    0.000853                  0.000000   \n",
              "50%                    0.002842                  0.000000   \n",
              "75%                    0.041271                  0.125000   \n",
              "max                    1.000000                  1.000000   \n",
              "\n",
              "       6.781524926686217924e-02  0.000000000000000000e+00.1  \\\n",
              "count                505.000000                  505.000000   \n",
              "mean                   0.392018                    0.069307   \n",
              "std                    0.251315                    0.254227   \n",
              "min                    0.000000                    0.000000   \n",
              "25%                    0.173387                    0.000000   \n",
              "50%                    0.338343                    0.000000   \n",
              "75%                    0.646628                    0.000000   \n",
              "max                    1.000000                    1.000000   \n",
              "\n",
              "       3.148148148148147696e-01  5.775052692086607431e-01  \\\n",
              "count                505.000000                505.000000   \n",
              "mean                   0.349235                  0.521759   \n",
              "std                    0.238663                  0.134737   \n",
              "min                    0.000000                  0.000000   \n",
              "25%                    0.131687                  0.445296   \n",
              "50%                    0.314815                  0.507185   \n",
              "75%                    0.491770                  0.587086   \n",
              "max                    1.000000                  1.000000   \n",
              "\n",
              "       6.416065911431514390e-01  2.692031390664641477e-01  \\\n",
              "count                505.000000                505.000000   \n",
              "mean                   0.676432                  0.242328   \n",
              "std                    0.290179                  0.191668   \n",
              "min                    0.000000                  0.000000   \n",
              "25%                    0.433574                  0.088243   \n",
              "50%                    0.770340                  0.188198   \n",
              "75%                    0.939238                  0.371223   \n",
              "max                    1.000000                  1.000000   \n",
              "\n",
              "       0.000000000000000000e+00.2  2.080152671755724492e-01  ...  \\\n",
              "count                  505.000000                505.000000  ...   \n",
              "mean                     0.372449                  0.422632  ...   \n",
              "std                      0.378589                  0.321813  ...   \n",
              "min                      0.000000                  0.000000  ...   \n",
              "25%                      0.130435                  0.175573  ...   \n",
              "50%                      0.173913                  0.272901  ...   \n",
              "75%                      1.000000                  0.914122  ...   \n",
              "max                      1.000000                  1.000000  ...   \n",
              "\n",
              "       5.974906610362189924e-02  2.080152671755724214e-01  \\\n",
              "count                505.000000                505.000000   \n",
              "mean                   0.297547                  0.347010   \n",
              "std                    0.284770                  0.284129   \n",
              "min                    0.000000                  0.000000   \n",
              "25%                    0.087624                  0.158193   \n",
              "50%                    0.142115                  0.225572   \n",
              "75%                    0.739077                  0.440625   \n",
              "max                    0.797872                  1.000000   \n",
              "\n",
              "       1.865479079251132835e-02  8.250339520144869820e-02  \\\n",
              "count                505.000000                505.000000   \n",
              "mean                   0.161950                  0.441690   \n",
              "std                    0.194591                  0.250332   \n",
              "min                    0.000000                  0.000000   \n",
              "25%                    0.026204                  0.260751   \n",
              "50%                    0.065925                  0.478158   \n",
              "75%                    0.257902                  0.653689   \n",
              "max                    0.914122                  1.000000   \n",
              "\n",
              "       2.872340425531915709e-01  2.575912357334086619e-02  \\\n",
              "count                505.000000                505.000000   \n",
              "mean                   0.550879                  0.205053   \n",
              "std                    0.252103                  0.168345   \n",
              "min                    0.000000                  0.000000   \n",
              "25%                    0.400056                  0.072035   \n",
              "50%                    0.615979                  0.156108   \n",
              "75%                    0.759622                  0.311669   \n",
              "max                    0.964446                  0.825020   \n",
              "\n",
              "       9.999999999999997780e-01  8.967991169977924948e-02  \\\n",
              "count                505.000000                505.000000   \n",
              "mean                   0.860037                  0.254589   \n",
              "std                    0.265797                  0.178537   \n",
              "min                    0.000000                  0.000000   \n",
              "25%                    0.894178                  0.117933   \n",
              "50%                    0.972604                  0.219371   \n",
              "75%                    0.996523                  0.345408   \n",
              "max                    1.000000                  1.000000   \n",
              "\n",
              "       8.042486562480206241e-03  2.400000000000000000e+01  \n",
              "count                505.000000                505.000000  \n",
              "mean                   0.129840                 22.529901  \n",
              "std                    0.161825                  9.205991  \n",
              "min                    0.000000                  5.000000  \n",
              "25%                    0.021227                 17.000000  \n",
              "50%                    0.070905                 21.200000  \n",
              "75%                    0.176613                 25.000000  \n",
              "max                    1.000000                 50.000000  \n",
              "\n",
              "[8 rows x 105 columns]"
            ]
          },
          "execution_count": 27,
          "metadata": {},
          "output_type": "execute_result"
        }
      ],
      "source": [
        "df_boston_housing_org.describe()"
      ]
    },
    {
      "cell_type": "code",
      "execution_count": 28,
      "metadata": {
        "colab": {
          "base_uri": "https://localhost:8080/",
          "height": 458
        },
        "id": "74erQxVyLMbA",
        "outputId": "7591f2dd-5e1f-4bbd-dd49-8ace21a5ec99"
      },
      "outputs": [
        {
          "data": {
            "text/plain": [
              "0      21.6\n",
              "1      34.7\n",
              "2      33.4\n",
              "3      36.2\n",
              "4      28.7\n",
              "       ... \n",
              "500    22.4\n",
              "501    20.6\n",
              "502    23.9\n",
              "503    22.0\n",
              "504    11.9\n",
              "Name: 2.400000000000000000e+01, Length: 505, dtype: float64"
            ]
          },
          "execution_count": 28,
          "metadata": {},
          "output_type": "execute_result"
        }
      ],
      "source": [
        "X = df_boston_housing_org.iloc[:,:-1]\n",
        "y = df_boston_housing_org.iloc[:,-1]\n",
        "y"
      ]
    },
    {
      "cell_type": "code",
      "execution_count": 29,
      "metadata": {
        "id": "YGqA4nDkLO8o"
      },
      "outputs": [],
      "source": [
        "corr_matrix = df_boston_housing_org.corr()\n",
        "top_post_corr = corr_matrix[df_boston_housing_org.columns[-1]].sort_values(ascending=False).head(4).index[1:]"
      ]
    },
    {
      "cell_type": "code",
      "execution_count": 30,
      "metadata": {
        "id": "ELLcTxZ5LQ_4"
      },
      "outputs": [],
      "source": [
        "least_neg_corr = corr_matrix[df_boston_housing_org.columns[-1]].sort_values(ascending=True).head(15).index"
      ]
    },
    {
      "cell_type": "code",
      "execution_count": 31,
      "metadata": {
        "id": "Mci_kWM-LVpU"
      },
      "outputs": [],
      "source": [
        "results_dict = {}\n",
        "for i in range(1,4):\n",
        "  poly = PolynomialFeatures(degree=i)\n",
        "  X_poly = poly.fit_transform(X)\n",
        "  X_train, X_test, y_train, y_test = train_test_split(X_poly, y, test_size=0.2, random_state=42)\n",
        "  lr = LinearRegression()\n",
        "  lr.fit(X_train, y_train)\n",
        "  y_pred = lr.predict(X_test)\n",
        "  r2 = r2_score(y_test, y_pred)\n",
        "  mae = mean_absolute_error(y_test, y_pred)\n",
        "  mse = mean_squared_error(y_test, y_pred)\n",
        "  rmse = np.sqrt(mse)\n",
        "  results_dict[i] = {'r2': r2, 'mae': mae, 'mse': mse, 'rmse': rmse}"
      ]
    },
    {
      "cell_type": "code",
      "execution_count": 32,
      "metadata": {
        "colab": {
          "base_uri": "https://localhost:8080/",
          "height": 175
        },
        "id": "nmEKG5A1LZAt",
        "outputId": "f8692baa-f6c2-4524-ec5c-40953fb157f8"
      },
      "outputs": [
        {
          "data": {
            "text/html": [
              "<div>\n",
              "<style scoped>\n",
              "    .dataframe tbody tr th:only-of-type {\n",
              "        vertical-align: middle;\n",
              "    }\n",
              "\n",
              "    .dataframe tbody tr th {\n",
              "        vertical-align: top;\n",
              "    }\n",
              "\n",
              "    .dataframe thead th {\n",
              "        text-align: right;\n",
              "    }\n",
              "</style>\n",
              "<table border=\"1\" class=\"dataframe\">\n",
              "  <thead>\n",
              "    <tr style=\"text-align: right;\">\n",
              "      <th></th>\n",
              "      <th>1</th>\n",
              "      <th>2</th>\n",
              "      <th>3</th>\n",
              "    </tr>\n",
              "  </thead>\n",
              "  <tbody>\n",
              "    <tr>\n",
              "      <th>r2</th>\n",
              "      <td>0.834257</td>\n",
              "      <td>-15.711319</td>\n",
              "      <td>-2.829763</td>\n",
              "    </tr>\n",
              "    <tr>\n",
              "      <th>mae</th>\n",
              "      <td>2.230437</td>\n",
              "      <td>15.289507</td>\n",
              "      <td>7.976342</td>\n",
              "    </tr>\n",
              "    <tr>\n",
              "      <th>mse</th>\n",
              "      <td>9.235566</td>\n",
              "      <td>931.190722</td>\n",
              "      <td>213.402650</td>\n",
              "    </tr>\n",
              "    <tr>\n",
              "      <th>rmse</th>\n",
              "      <td>3.039007</td>\n",
              "      <td>30.515418</td>\n",
              "      <td>14.608308</td>\n",
              "    </tr>\n",
              "  </tbody>\n",
              "</table>\n",
              "</div>"
            ],
            "text/plain": [
              "             1           2           3\n",
              "r2    0.834257  -15.711319   -2.829763\n",
              "mae   2.230437   15.289507    7.976342\n",
              "mse   9.235566  931.190722  213.402650\n",
              "rmse  3.039007   30.515418   14.608308"
            ]
          },
          "execution_count": 32,
          "metadata": {},
          "output_type": "execute_result"
        }
      ],
      "source": [
        "pd.DataFrame(results_dict)"
      ]
    },
    {
      "cell_type": "code",
      "execution_count": 33,
      "metadata": {
        "colab": {
          "base_uri": "https://localhost:8080/"
        },
        "id": "eMAA-SScLa6E",
        "outputId": "d3b9a2f2-e6d2-4f28-b1c1-b3db3944a603"
      },
      "outputs": [
        {
          "data": {
            "text/plain": [
              "array([  2,  23,  44,  65,  86, 107, 128, 150, 171, 192, 213, 234, 255,\n",
              "       277, 298, 319, 340, 361, 382, 404])"
            ]
          },
          "execution_count": 33,
          "metadata": {},
          "output_type": "execute_result"
        }
      ],
      "source": [
        "sizes = np.linspace(start=2, stop=len(X_train), num=20)\n",
        "sizes = sizes.astype(int)\n",
        "sizes"
      ]
    },
    {
      "cell_type": "code",
      "execution_count": 34,
      "metadata": {
        "colab": {
          "base_uri": "https://localhost:8080/"
        },
        "id": "e8rCEw4ILcnY",
        "outputId": "f7e5eb38-76db-40c8-d71a-ec1bc28bdad6"
      },
      "outputs": [
        {
          "name": "stdout",
          "output_type": "stream",
          "text": [
            "[1.0, 1.0, 1.0, 1.0, 1.0, 0.9986762564081014, 0.9891100471513697, 0.9774460250821383, 0.9720792509034307, 0.9692176299736108, 0.9647225041079255, 0.947894967059257, 0.946563947633642, 0.9434197839994858, 0.9394914658202513, 0.9403683808643132, 0.9384626396042941, 0.9350107928917699, 0.9365342514561265, 0.9340313859280017]\n",
            "[0.17224347640915127, -0.5717798846365258, -1.0785796206227563, -14.693428326203536, -56.41886396070865, -23.785723528556954, -3.118108412576783, -0.8719724689646324, -0.14314913915356442, -6.0926611044094, -3.53571873169155, -1.7043474184776506, -0.8479699944726877, 0.6984501524248409, 0.7296278919416072, 0.7595801219645982, 0.8133148060184494, 0.8030495574773608, 0.8259422332066871, 0.834256840791402]\n"
          ]
        }
      ],
      "source": [
        "test_r2_score = []\n",
        "train_r2_score = []\n",
        "for size in sizes:\n",
        "  X_train, X_test, y_train, y_test = train_test_split(X, y, test_size=0.2, random_state=42)\n",
        "  lr = LinearRegression()\n",
        "  lr.fit(X_train[:size], y_train[:size])\n",
        "  y_pred = lr.predict(X_test)\n",
        "  train_r2_score.append(r2_score(y_train[:size], lr.predict(X_train[:size])))\n",
        "  test_r2_score.append(r2_score(y_test, y_pred))\n",
        "\n",
        "print(train_r2_score)\n",
        "print(test_r2_score)"
      ]
    },
    {
      "cell_type": "code",
      "execution_count": 35,
      "metadata": {
        "colab": {
          "base_uri": "https://localhost:8080/",
          "height": 466
        },
        "id": "iIoXazHsLelH",
        "outputId": "7a127769-eb04-4e05-fae5-9c2ef1424b64"
      },
      "outputs": [
        {
          "data": {
            "text/plain": [
              "Text(0, 0.5, 'r2 score')"
            ]
          },
          "execution_count": 35,
          "metadata": {},
          "output_type": "execute_result"
        },
        {
          "data": {
            "image/png": "[encoded data removed]",
            "text/plain": [
              "<Figure size 640x480 with 1 Axes>"
            ]
          },
          "metadata": {},
          "output_type": "display_data"
        }
      ],
      "source": [
        "plt.plot(sizes, np.array(train_r2_score), label='train')\n",
        "plt.plot(sizes, np.array(test_r2_score), label='test')\n",
        "plt.legend()\n",
        "plt.xlabel('train size')\n",
        "plt.ylabel('r2 score')"
      ]
    },
    {
      "cell_type": "code",
      "execution_count": null,
      "metadata": {
        "id": "Ge1ZZABxMPIL"
      },
      "outputs": [],
      "source": []
    }
  ],
  "metadata": {
    "colab": {
      "provenance": []
    },
    "kernelspec": {
      "display_name": "Python 3",
      "name": "python3"
    },
    "language_info": {
      "codemirror_mode": {
        "name": "ipython",
        "version": 3
      },
      "file_extension": ".py",
      "mimetype": "text/x-python",
      "name": "python",
      "nbconvert_exporter": "python",
      "pygments_lexer": "ipython3",
      "version": "3.10.12"
    }
  },
  "nbformat": 4,
  "nbformat_minor": 0
}
