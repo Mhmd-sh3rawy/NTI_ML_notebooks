{
  "cells": [
    {
      "cell_type": "markdown",
      "metadata": {
        "id": "9Q5SkLh7qiiY"
      },
      "source": [
        "## **First Task**\n",
        "\n",
        "- ATM machine simulation\n",
        "- Student Grade Tracker\n",
        "- Number Guessing Game"
      ]
    },
    {
      "cell_type": "code",
      "execution_count": null,
      "metadata": {
        "colab": {
          "base_uri": "https://localhost:8080/"
        },
        "id": "QiASXo71HDvY",
        "outputId": "f367afb3-4631-4712-f25f-710189265f70"
      },
      "outputs": [
        {
          "name": "stdout",
          "output_type": "stream",
          "text": [
            "Enter your PIN 1548\n",
            "try again\n",
            "Enter your PIN 1234\n",
            "\n",
            "     1: Check Balance\n",
            "\n",
            "     2: Deposit Money\n",
            "\n",
            "     3: Withdraw Money\n",
            "\n",
            "     4: Exit\n",
            "\n",
            "service number (1:4) 2\n",
            "How much ?? 20\n",
            "Processing ... \n",
            "Processing ... \n",
            "Processing ... \n",
            "Processing ... \n",
            "Processing ... \n"
          ]
        }
      ],
      "source": [
        "correct_pin = 1234\n",
        "input_pin = 0\n",
        "trials = 0\n",
        "balance = 227.50\n",
        "\n",
        "\n",
        "while input_pin != correct_pin:\n",
        "  input_pin = int(input('Enter your PIN '))\n",
        "  if input_pin != correct_pin:\n",
        "    print('try again')\n",
        "    trials += 1\n",
        "  else:\n",
        "    break\n",
        "  if trials > 3:\n",
        "    print('You failed try again ')\n",
        "    input('press enter to continue')\n",
        "    continue\n",
        "\n",
        "print(\"\"\"\n",
        "     1: Check Balance\n",
        "\n",
        "     2: Deposit Money\n",
        "\n",
        "     3: Withdraw Money\n",
        "\n",
        "     4: Exit\n",
        "\"\"\")\n",
        "\n",
        "\n",
        "\n",
        "service_num = int(input('service number (1:4) '))\n",
        "\n",
        "if(service_num == 1):\n",
        "  print(balance)\n",
        "elif(service_num == 2):\n",
        "  deposit_money = float(input('How much ?? '))\n",
        "  for i in range(5):\n",
        "    print('Processing ... ')\n",
        "  balance += deposit_money\n",
        "elif(service_num == 3):\n",
        "  for i in range(5):\n",
        "    print('Processing ... ')\n",
        "  withdraw = float(input('How much ?? '))\n",
        "  if withdraw > 0 and balance > withdraw:\n",
        "    balance -= withdraw\n",
        "else:\n",
        "  print('program finished')\n"
      ]
    },
    {
      "cell_type": "code",
      "execution_count": null,
      "metadata": {
        "colab": {
          "base_uri": "https://localhost:8080/"
        },
        "id": "qpVOThfs4eh4",
        "outputId": "e7633d4a-5037-4899-d1c3-0fdaebbedbbf"
      },
      "outputs": [
        {
          "name": "stdout",
          "output_type": "stream",
          "text": [
            "How many students in your course 3\n",
            "Enter student name mhmd\n",
            "Enter student age 19\n",
            "Enter student grade 58\n",
            "Enter student name sayed\n",
            "Enter student age 20\n",
            "Enter student grade 49\n",
            "Enter student name Alaa\n",
            "Enter student age 19\n",
            "Enter student grade 90\n",
            "[{'name': 'mhmd', 'age': 19, 'grade': 58.0}, {'name': 'sayed', 'age': 20, 'grade': 49.0}, {'name': 'Alaa', 'age': 19, 'grade': 90.0}]\n",
            "mhmd\n",
            "sayed\n",
            "Alaa\n",
            "65.66666666666667\n",
            "2\n"
          ]
        }
      ],
      "source": [
        "# initialize list\n",
        "student_info = ['name', 'age', 'grade']\n",
        "initial_vals = [' ', 0, 0.0]\n",
        "temp_dict = {key:val for key, val in zip(student_info, initial_vals)}\n",
        "all_students = []\n",
        "\n",
        "student_num = int(input('How many students in your course '))\n",
        "\n",
        "# create list of dictionaries of all data\n",
        "for student in range(student_num):\n",
        "  temp = temp_dict.copy()\n",
        "  name = input('Enter student name ')\n",
        "  age = int(input('Enter student age '))\n",
        "  grade = float(input('Enter student grade '))\n",
        "  temp['name'] = name\n",
        "  temp['age'] = age\n",
        "  temp['grade'] = grade\n",
        "  if  not (100 >= temp['grade'] >= 0):\n",
        "    print('not valid grade')\n",
        "    temp['grade'] = 0.0\n",
        "  all_students.append(temp)\n",
        "\n",
        "\n",
        "print(all_students)\n",
        "\n",
        "\n",
        "average_grades = 0.0\n",
        "above_50 = 0\n",
        "\n",
        "for elem in all_students:\n",
        "  print(elem['name'])\n",
        "  average_grades += elem['grade']\n",
        "  if(elem['grade'] >= 50):\n",
        "    above_50 += 1\n",
        "\n",
        "print(average_grades/student_num)\n",
        "print(above_50)\n"
      ]
    },
    {
      "cell_type": "code",
      "execution_count": null,
      "metadata": {
        "colab": {
          "base_uri": "https://localhost:8080/"
        },
        "id": "JvFMmKR26LN0",
        "outputId": "14ff67b5-3652-4488-c442-a715ac74e175"
      },
      "outputs": [
        {
          "name": "stdout",
          "output_type": "stream",
          "text": [
            "enter a num to guess -1 to quit 50\n",
            "too high\n",
            "enter a num to guess -1 to quit 25\n",
            "to low\n",
            "enter a num to guess -1 to quit 37\n",
            "too high\n",
            "enter a num to guess -1 to quit 30\n",
            "too high\n",
            "enter a num to guess -1 to quit 28\n",
            "to low\n",
            "enter a num to guess -1 to quit 29\n",
            " ==  you win  == \n",
            "Do you want to play again? (y/n)? y\n",
            "enter a num to guess -1 to quit -1\n",
            "Do you want to play again? (y/n)? n\n"
          ]
        }
      ],
      "source": [
        "import numpy as np\n",
        "\n",
        "\n",
        "while True:\n",
        "  num = np.random.randint(1,100)\n",
        "  playing = True\n",
        "  while playing:\n",
        "    guess = int(input('enter a num to guess -1 to quit '))\n",
        "\n",
        "    if guess == -1:\n",
        "      playing = False\n",
        "      break\n",
        "\n",
        "    if guess > num:\n",
        "      print('too high')\n",
        "    elif num > guess:\n",
        "      print('to low')\n",
        "    else:\n",
        "      print(' ==  you win  == ')\n",
        "      break\n",
        "\n",
        "  toggle_playing = input('Do you want to play again? (y/n)? ')\n",
        "  if toggle_playing.lower() == 'n':\n",
        "    break\n",
        "  else:\n",
        "    continue\n",
        "\n",
        "\n"
      ]
    },
    {
      "cell_type": "markdown",
      "metadata": {
        "id": "iJAUzeUwrAtG"
      },
      "source": [
        "## **Second Part**\n",
        "\n",
        "- Tuple Task – Student Registration Info\n",
        "- List Task – Favorite Tools\n",
        "- Set Task – Languages You Know\n",
        "-  Dictionary Task – Student Grades Book\n",
        "- Combined Task: Student Profile Collector"
      ]
    },
    {
      "cell_type": "code",
      "execution_count": null,
      "metadata": {
        "colab": {
          "base_uri": "https://localhost:8080/"
        },
        "id": "8Dd5AV5qdiFt",
        "outputId": "0fd8999d-d619-4a6a-ff12-81603b119df7"
      },
      "outputs": [
        {
          "name": "stdout",
          "output_type": "stream",
          "text": [
            "Enter your name: mhmd\n",
            "Enter your department: ECE\n",
            "Enter your year: 3\n",
            "mhmd is from ECE, year 3.\n"
          ]
        }
      ],
      "source": [
        "def store_data():\n",
        "  name = input(\"Enter your name: \")\n",
        "  department  = input(\"Enter your department: \")\n",
        "  year = int(input(\"Enter your year: \"))\n",
        "  return (name, department, year)\n",
        "\n",
        "def display(tup_data):\n",
        "  return f'{tup_data[0]} is from {tup_data[1]}, year {tup_data[2]}.'\n",
        "\n",
        "data = store_data()\n",
        "print(display(data))"
      ]
    },
    {
      "cell_type": "code",
      "execution_count": null,
      "metadata": {
        "colab": {
          "base_uri": "https://localhost:8080/"
        },
        "id": "U5jWGUYofnEi",
        "outputId": "a49143e8-1c78-4ca6-fdab-738a08baadf3"
      },
      "outputs": [
        {
          "name": "stdout",
          "output_type": "stream",
          "text": [
            "insert a programming tool Git\n",
            "insert a programming tool Vim\n",
            "insert a programming tool nvim\n",
            "your fav tools are ['Git', 'Vim', 'nvim']\n"
          ]
        }
      ],
      "source": [
        "lst_of_tools = []\n",
        "\n",
        "for i in range(3):\n",
        "  tool = input('insert a programming tool ')\n",
        "  lst_of_tools.append(tool)\n",
        "\n",
        "print('your fav tools are '+ str(lst_of_tools))"
      ]
    },
    {
      "cell_type": "code",
      "execution_count": null,
      "metadata": {
        "colab": {
          "base_uri": "https://localhost:8080/"
        },
        "id": "2LV3GjETgPQ-",
        "outputId": "003ea922-103d-4e61-a4d3-c14fb9efc071"
      },
      "outputs": [
        {
          "name": "stdout",
          "output_type": "stream",
          "text": [
            "Enter a language you know (done for exit ): cpp\n",
            "Enter a language you know (done for exit ): lua \n",
            "Enter a language you know (done for exit ): python  \n",
            "Enter a language you know (done for exit ): c\n",
            "Enter a language you know (done for exit ): cpp\n",
            "Enter a language you know (done for exit ): done\n",
            "{'python', 'c', 'cpp', 'lua'}\n"
          ]
        }
      ],
      "source": [
        "def programming_langs():\n",
        "  answer = []\n",
        "  reading = True\n",
        "  while reading:\n",
        "    user_input = input('Enter a language you know (done for exit ): ')\n",
        "    if user_input.strip().lower() == 'done':\n",
        "      break\n",
        "    else:\n",
        "      answer.append(user_input.strip().lower())\n",
        "  return set(answer)\n",
        "\n",
        "print(programming_langs())"
      ]
    },
    {
      "cell_type": "code",
      "execution_count": null,
      "metadata": {
        "colab": {
          "base_uri": "https://localhost:8080/"
        },
        "id": "yXoxUtPOht9V",
        "outputId": "ff89da78-552a-4c50-8556-00c47c2bff4c"
      },
      "outputs": [
        {
          "name": "stdout",
          "output_type": "stream",
          "text": [
            "input three names \n",
            "Enter name 1 mhmd\n",
            "input mhmd grade: 90\n",
            "Enter name 2 sayed\n",
            "input sayed grade: 85\n",
            "Enter name 3 mahmoud\n",
            "input mahmoud grade: 95\n",
            "{'mhmd': 90.0, 'sayed': 85.0, 'mahmoud': 95.0}\n"
          ]
        }
      ],
      "source": [
        "print('input three names ')\n",
        "final_dict = {}\n",
        "\n",
        "for i in range(3):\n",
        "  student = input(f'Enter name {i+1} ')\n",
        "  final_dict[student] = float(input(f'input {student} grade: '))\n",
        "\n",
        "print(final_dict)"
      ]
    },
    {
      "cell_type": "code",
      "execution_count": null,
      "metadata": {
        "colab": {
          "base_uri": "https://localhost:8080/"
        },
        "id": "Tj0mq9jAibFS",
        "outputId": "93e95615-9627-41a4-fdfe-bd203f6059cc"
      },
      "outputs": [
        {
          "name": "stdout",
          "output_type": "stream",
          "text": [
            "Enter your name: mhmd\n",
            "Enter your department: ECE\n",
            "Enter your year: 3\n",
            "inform us about your best 3 favourite_tool\n",
            "insert a programming tool Git\n",
            "insert a programming tool Vim\n",
            "insert a programming tool nvim\n",
            "Enter a language you know (done for exit ): python\n",
            "Enter a language you know (done for exit ): lua\n",
            "Enter a language you know (done for exit ): cpp\n",
            "Enter a language you know (done for exit ): cpp \n",
            "Enter a language you know (done for exit ): done \n",
            "{'mhmd': {'info': ('ECE', 3), 'tools': ['Git', 'Vim', 'nvim'], 'langs': {'python', 'cpp', 'lua'}}}\n"
          ]
        }
      ],
      "source": [
        "### Combined Project  ###\n",
        "\n",
        "student_main_data = store_data()    # name, Dep, year\n",
        "\n",
        "print('inform us about your best 3 favourite_tool')\n",
        "fav_lst_tools = []\n",
        "\n",
        "for i in range(3):\n",
        "  tool = input('insert a programming tool ')\n",
        "  fav_lst_tools.append(tool)\n",
        "\n",
        "\n",
        "languages_student_know = programming_langs()\n",
        "\n",
        "data_frame_dict = {}\n",
        "\n",
        "data_frame_dict[student_main_data[0]] = {'info':student_main_data[1:],\n",
        "                                         'tools':fav_lst_tools,\n",
        "                                         'langs':languages_student_know}\n",
        "\n",
        "\n",
        "print(data_frame_dict)\n",
        "\n"
      ]
    }
  ],
  "metadata": {
    "colab": {
      "provenance": []
    },
    "kernelspec": {
      "display_name": "Python 3",
      "name": "python3"
    },
    "language_info": {
      "name": "python"
    }
  },
  "nbformat": 4,
  "nbformat_minor": 0
}
