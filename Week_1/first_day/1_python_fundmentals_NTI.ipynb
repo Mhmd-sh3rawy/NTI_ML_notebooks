{
 "cells": [
  {
   "cell_type": "code",
   "execution_count": 1,
   "metadata": {
    "colab": {
     "base_uri": "https://localhost:8080/"
    },
    "executionInfo": {
     "elapsed": 18101,
     "status": "ok",
     "timestamp": 1752406930959,
     "user": {
      "displayName": "Mohammed Abdelbaset",
      "userId": "11108960765108896485"
     },
     "user_tz": -180
    },
    "id": "4IaTwWP9Js6p",
    "outputId": "aa386c4b-e547-4ddc-f4e9-76775fedeb99"
   },
   "outputs": [
    {
     "name": "stdout",
     "output_type": "stream",
     "text": [
      "Do not grant access to\n"
     ]
    }
   ],
   "source": [
    "name = input(\"Enter your name \").lower()\n",
    "department = input(\"Enter your department \").lower()\n",
    "clearance_level = input(\"Enter your clearance level \").lower()\n",
    "\n",
    "if(department=='engineering' or department=='computer science') and (clearance_level=='medium' or clearance_level=='high'):\n",
    "  print(\"Grant access to \" + name)\n",
    "else:\n",
    "  print(\"Do not grant access to\")"
   ]
  },
  {
   "cell_type": "code",
   "execution_count": 2,
   "metadata": {
    "colab": {
     "base_uri": "https://localhost:8080/"
    },
    "executionInfo": {
     "elapsed": 6846,
     "status": "ok",
     "timestamp": 1752406943848,
     "user": {
      "displayName": "Mohammed Abdelbaset",
      "userId": "11108960765108896485"
     },
     "user_tz": -180
    },
    "id": "yUC-DKm8XkjY",
    "outputId": "61591227-f743-48fc-d416-9d6d49721753"
   },
   "outputs": [
    {
     "name": "stdout",
     "output_type": "stream",
     "text": [
      "status temp1: critical\n",
      "status temp2: warning\n",
      "status temp3: safe\n"
     ]
    }
   ],
   "source": [
    "temp1 = float(input('temp 1 input '))\n",
    "temp2 = float(input('temp 2 input '))\n",
    "temp3 = float(input('temp 3 input '))\n",
    "\n",
    "lst = [temp1 , temp2 , temp3]\n",
    "\n",
    "for num in range(len(lst)):\n",
    "  temp = lst[num]\n",
    "  if temp > 85:\n",
    "    print(f'status temp{num+1}: critical')\n",
    "  elif temp >= 70:\n",
    "    print(f\"status temp{num+1}: warning\")\n",
    "  else:\n",
    "    print(f\"status temp{num+1}: safe\")"
   ]
  },
  {
   "cell_type": "code",
   "execution_count": 3,
   "metadata": {
    "colab": {
     "base_uri": "https://localhost:8080/"
    },
    "executionInfo": {
     "elapsed": 17343,
     "status": "ok",
     "timestamp": 1752406982774,
     "user": {
      "displayName": "Mohammed Abdelbaset",
      "userId": "11108960765108896485"
     },
     "user_tz": -180
    },
    "id": "QHUrPe6kf40e",
    "outputId": "6f3173f0-f28a-43ce-f19f-be9fc31497ef"
   },
   "outputs": [
    {
     "name": "stdout",
     "output_type": "stream",
     "text": [
      "sorry you are rejected\n"
     ]
    }
   ],
   "source": [
    "gpa = float(input('Enter your GPA '))\n",
    "hours = int(input('credit hours '))\n",
    "publication_status = int(input('Enter the numer of papers you published (0 for nothing) '))\n",
    "\n",
    "condition = (gpa >= 3.5) and (hours >=30) and publication_status >= 1\n",
    "\n",
    "if condition:\n",
    "  print('Eliglible')\n",
    "else:\n",
    "  print('sorry you are rejected')\n",
    "\n"
   ]
  },
  {
   "cell_type": "code",
   "execution_count": 4,
   "metadata": {
    "colab": {
     "base_uri": "https://localhost:8080/"
    },
    "executionInfo": {
     "elapsed": 9900,
     "status": "ok",
     "timestamp": 1752406263628,
     "user": {
      "displayName": "Mohammed Abdelbaset",
      "userId": "11108960765108896485"
     },
     "user_tz": -180
    },
    "id": "VGwocJefgwWW",
    "outputId": "2bdd90e1-0c7a-446b-b5e3-18775085a9e5"
   },
   "outputs": [
    {
     "name": "stdout",
     "output_type": "stream",
     "text": [
      "eliglile\n"
     ]
    }
   ],
   "source": [
    "own_id_badge = input('Do you have ID padge (Y/n) ').lower()\n",
    "is_employee = input('Are you an employee (Y/n) ').lower()\n",
    "own_appointment = input('Do you have an appointment (Y/n) ').lower()\n",
    "\n",
    "condition = own_id_badge=='y' and (is_employee=='y' or own_id_badge=='y')\n",
    "\n",
    "if condition:\n",
    "  print('eliglile')\n",
    "else:\n",
    "  print('not')\n"
   ]
  }
 ],
 "metadata": {
  "colab": {
   "authorship_tag": "ABX9TyNG4zlR+yCOJhxxBC5/wtYl",
   "provenance": []
  },
  "kernelspec": {
   "display_name": "Python 3",
   "name": "python3"
  },
  "language_info": {
   "codemirror_mode": {
    "name": "ipython",
    "version": 3
   },
   "file_extension": ".py",
   "mimetype": "text/x-python",
   "name": "python",
   "nbconvert_exporter": "python",
   "pygments_lexer": "ipython3",
   "version": "3.10.12"
  }
 },
 "nbformat": 4,
 "nbformat_minor": 0
}
